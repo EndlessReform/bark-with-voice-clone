{
 "cells": [
  {
   "cell_type": "code",
   "execution_count": 2,
   "metadata": {},
   "outputs": [
    {
     "name": "stderr",
     "output_type": "stream",
     "text": [
      "/home/ritsuko/projects/ai/audio/bark/venv/lib/python3.10/site-packages/tqdm/auto.py:21: TqdmWarning: IProgress not found. Please update jupyter and ipywidgets. See https://ipywidgets.readthedocs.io/en/stable/user_install.html\n",
      "  from .autonotebook import tqdm as notebook_tqdm\n"
     ]
    }
   ],
   "source": [
    "#%pip install resampy\n",
    "import numpy as np\n",
    "import os\n",
    "from pprint import pprint\n",
    "from bark.api import text_to_semantic, semantic_to_waveform, generate_audio\n",
    "from bark.generation import SAMPLE_RATE, generate_text_semantic, SEMANTIC_RATE_HZ\n",
    "from IPython.display import Audio\n",
    "from scipy.io.wavfile import write as write_wav\n",
    "from datetime import datetime\n",
    "import torch\n",
    "import torchaudio\n",
    "import soundfile\n",
    "import resampy\n",
    "import sys"
   ]
  },
  {
   "attachments": {},
   "cell_type": "markdown",
   "metadata": {},
   "source": [
    "We generate voice lines based on metadata from an old version of the [Mozilla CommonVoice dataset](https://www.kaggle.com/datasets/nickj26/common-voice-corpus-1?resource=download&select=validated.tsv) metadata. Yes, this is just English for now; I will figure out multilingual later.\n",
    "\n"
   ]
  },
  {
   "attachments": {},
   "cell_type": "markdown",
   "metadata": {},
   "source": [
    "This notebook creates a synthetic dataset of audio based on voice line prompts from Mozilla CommonVoice. The purpose of this dataset is to reconstruct the Bark semantic tokens codebook, which will enable us to convert ground-truth audio to a semantic prompt for use in fine-tuning and voice cloning. This notebook provides step-by-step instructions for creating the synthetic dataset and saving it in HuBERT dataset format. Let's get started!"
   ]
  },
  {
   "cell_type": "code",
   "execution_count": 2,
   "metadata": {},
   "outputs": [
    {
     "data": {
      "text/plain": [
       "Index(['client_id', 'path', 'sentence', 'up_votes', 'down_votes', 'age',\n",
       "       'gender', 'accent'],\n",
       "      dtype='object')"
      ]
     },
     "execution_count": 2,
     "metadata": {},
     "output_type": "execute_result"
    }
   ],
   "source": [
    "import pandas as pd\n",
    "\n",
    "CV_METADATA_PATH = '../datasets/validated.tsv'\n",
    "df = pd.read_csv(CV_METADATA_PATH, sep=\"\\t\")\n",
    "df.columns"
   ]
  },
  {
   "cell_type": "code",
   "execution_count": 3,
   "metadata": {},
   "outputs": [
    {
     "data": {
      "text/plain": [
       "array(['To give chalk for cheese', 'Judge may not think so.',\n",
       "       'I have already described the appearance of that colossal bulk which was embedded in the ground.',\n",
       "       ..., \"How's the forecast for VI\",\n",
       "       'Please look up the Jenny of the Prairie television show.',\n",
       "       'Find me the creative work The Pickwick Papers'], dtype=object)"
      ]
     },
     "execution_count": 3,
     "metadata": {},
     "output_type": "execute_result"
    }
   ],
   "source": [
    "lines = df[\"sentence\"].unique()\n",
    "lines"
   ]
  },
  {
   "attachments": {},
   "cell_type": "markdown",
   "metadata": {},
   "source": [
    "There are enough English lines for ~25 hours of audio with unique voice lines; _hopefully_ we'll need less than that."
   ]
  },
  {
   "cell_type": "code",
   "execution_count": 4,
   "metadata": {},
   "outputs": [],
   "source": [
    "# Force cu118 generation if available\n",
    "#%pip install torch torchaudio --force --extra-index-url https://download.pytorch.org/whl/cu118"
   ]
  },
  {
   "attachments": {},
   "cell_type": "markdown",
   "metadata": {},
   "source": [
    "On an RTX 4090 with a \"large\" model there's an RTF of approximately 0.75 with Torch 2.0+cu118, before additional optimizations.\n",
    "\n",
    "TODO: \n",
    "- Disable saving logging?"
   ]
  },
  {
   "cell_type": "code",
   "execution_count": 38,
   "metadata": {},
   "outputs": [
    {
     "name": "stderr",
     "output_type": "stream",
     "text": [
      "100%|██████████| 100/100 [00:00<00:00, 205.14it/s]\n",
      "100%|██████████| 6/6 [00:01<00:00,  4.02it/s]\n"
     ]
    },
    {
     "name": "stdout",
     "output_type": "stream",
     "text": [
      "Minutes of audio: 0.034068136272545096\n"
     ]
    },
    {
     "name": "stderr",
     "output_type": "stream",
     "text": [
      "100%|██████████| 100/100 [00:00<00:00, 195.24it/s]\n",
      "100%|██████████| 6/6 [00:01<00:00,  3.93it/s]\n"
     ]
    },
    {
     "name": "stdout",
     "output_type": "stream",
     "text": [
      "Minutes of audio: 0.06980627922511691\n"
     ]
    },
    {
     "name": "stderr",
     "output_type": "stream",
     "text": [
      "100%|██████████| 100/100 [00:01<00:00, 51.11it/s]\n",
      "100%|██████████| 19/19 [00:07<00:00,  2.54it/s]\n"
     ]
    },
    {
     "name": "stdout",
     "output_type": "stream",
     "text": [
      "Minutes of audio: 0.19639278557114231\n"
     ]
    },
    {
     "name": "stderr",
     "output_type": "stream",
     "text": [
      "100%|██████████| 100/100 [00:00<00:00, 109.94it/s]\n",
      "100%|██████████| 10/10 [00:03<00:00,  3.25it/s]\n"
     ]
    },
    {
     "name": "stdout",
     "output_type": "stream",
     "text": [
      "Minutes of audio: 0.2615230460921844\n"
     ]
    },
    {
     "name": "stderr",
     "output_type": "stream",
     "text": [
      "100%|██████████| 100/100 [00:00<00:00, 159.01it/s]\n",
      "100%|██████████| 7/7 [00:01<00:00,  3.54it/s]\n"
     ]
    },
    {
     "name": "stdout",
     "output_type": "stream",
     "text": [
      "Minutes of audio: 0.3069472277889112\n"
     ]
    },
    {
     "name": "stderr",
     "output_type": "stream",
     "text": [
      "100%|██████████| 100/100 [00:00<00:00, 202.22it/s]\n",
      "100%|██████████| 6/6 [00:01<00:00,  4.10it/s]\n"
     ]
    },
    {
     "name": "stdout",
     "output_type": "stream",
     "text": [
      "Minutes of audio: 0.34134936539746163\n"
     ]
    },
    {
     "name": "stderr",
     "output_type": "stream",
     "text": [
      "100%|██████████| 100/100 [00:00<00:00, 213.91it/s]\n",
      "100%|██████████| 5/5 [00:01<00:00,  3.63it/s]\n"
     ]
    },
    {
     "name": "stdout",
     "output_type": "stream",
     "text": [
      "Minutes of audio: 0.37474949899799603\n"
     ]
    },
    {
     "name": "stderr",
     "output_type": "stream",
     "text": [
      "100%|██████████| 100/100 [00:02<00:00, 37.67it/s]\n",
      "100%|██████████| 25/25 [00:10<00:00,  2.38it/s]\n"
     ]
    },
    {
     "name": "stdout",
     "output_type": "stream",
     "text": [
      "Minutes of audio: 0.5414161656646627\n"
     ]
    },
    {
     "name": "stderr",
     "output_type": "stream",
     "text": [
      "100%|██████████| 100/100 [00:00<00:00, 114.07it/s]\n",
      "100%|██████████| 9/9 [00:02<00:00,  3.32it/s]\n"
     ]
    },
    {
     "name": "stdout",
     "output_type": "stream",
     "text": [
      "Minutes of audio: 0.5988643954575819\n"
     ]
    },
    {
     "name": "stderr",
     "output_type": "stream",
     "text": [
      "100%|██████████| 100/100 [00:01<00:00, 72.65it/s]\n",
      "100%|██████████| 15/15 [00:05<00:00,  2.88it/s]\n"
     ]
    },
    {
     "name": "stdout",
     "output_type": "stream",
     "text": [
      "Minutes of audio: 0.6930527722110889\n"
     ]
    },
    {
     "name": "stderr",
     "output_type": "stream",
     "text": [
      "100%|██████████| 100/100 [00:00<00:00, 249.29it/s]\n",
      "100%|██████████| 5/5 [00:01<00:00,  4.30it/s]\n"
     ]
    },
    {
     "name": "stdout",
     "output_type": "stream",
     "text": [
      "Minutes of audio: 0.7207748830995324\n"
     ]
    },
    {
     "name": "stderr",
     "output_type": "stream",
     "text": [
      "100%|██████████| 100/100 [00:00<00:00, 111.29it/s]\n",
      "100%|██████████| 10/10 [00:03<00:00,  3.33it/s]\n"
     ]
    },
    {
     "name": "stdout",
     "output_type": "stream",
     "text": [
      "Minutes of audio: 0.7822311289245157\n"
     ]
    },
    {
     "name": "stderr",
     "output_type": "stream",
     "text": [
      "100%|██████████| 100/100 [00:00<00:00, 152.38it/s]\n",
      "100%|██████████| 7/7 [00:01<00:00,  3.51it/s]\n"
     ]
    },
    {
     "name": "stdout",
     "output_type": "stream",
     "text": [
      "Minutes of audio: 0.8279893119572479\n"
     ]
    },
    {
     "name": "stderr",
     "output_type": "stream",
     "text": [
      "100%|██████████| 100/100 [00:00<00:00, 114.71it/s]\n",
      "100%|██████████| 9/9 [00:02<00:00,  3.20it/s]\n"
     ]
    },
    {
     "name": "stdout",
     "output_type": "stream",
     "text": [
      "Minutes of audio: 0.8877755511022045\n"
     ]
    },
    {
     "name": "stderr",
     "output_type": "stream",
     "text": [
      "100%|██████████| 100/100 [00:01<00:00, 70.00it/s] \n",
      "100%|██████████| 15/15 [00:05<00:00,  2.75it/s]\n"
     ]
    },
    {
     "name": "stdout",
     "output_type": "stream",
     "text": [
      "Minutes of audio: 0.9866399465597864\n"
     ]
    },
    {
     "name": "stderr",
     "output_type": "stream",
     "text": [
      "100%|██████████| 100/100 [00:00<00:00, 101.39it/s]\n",
      "100%|██████████| 11/11 [00:03<00:00,  3.17it/s]\n"
     ]
    },
    {
     "name": "stdout",
     "output_type": "stream",
     "text": [
      "Minutes of audio: 1.0561122244488979\n"
     ]
    }
   ],
   "source": [
    "minutes_generated = 0\n",
    "minutes_to_generate = 1\n",
    "\n",
    "# Line index in commonvoice to start with. Useful when resuming\n",
    "start_line = 0\n",
    "\n",
    "label_file = open('../datasets/en/labels.txt', \"w\")\n",
    "manifest_file = open('../datasets/en/manifest.tsv', 'w')\n",
    "# Give TSV header at beginning.\n",
    "# No, this isn't robust. Too bad!\n",
    "if start_line == 0:\n",
    "    manifest_file.write(str(os.path.abspath(\"../datasets/en\")) + \"\\n\")\n",
    "\n",
    "# Because HuBERT is trained on 16khz data\n",
    "OUTPUT_SAMPLE_RATE = 16_000\n",
    "resampler = torchaudio.transforms.Resample(orig_freq=SAMPLE_RATE, new_freq=OUTPUT_SAMPLE_RATE)\n",
    "\n",
    "for i, line in enumerate(lines[start_line:]):\n",
    "    #try:\n",
    "    semantic_tokens = generate_text_semantic(text=line, temp=1)\n",
    "    waveform_arr = semantic_to_waveform(semantic_tokens)\n",
    "\n",
    "    # Persist sequence to new line\n",
    "    label_file.write(' '.join(list(map(str, semantic_tokens.tolist()))) + \"\\n\")\n",
    "    label_file.flush()\n",
    "\n",
    "    # Downsample generated audio to 16khz and save \n",
    "    waveform_tensor = torch.from_numpy(waveform_arr)\n",
    "    resampled_tensor = resampler(waveform_tensor).unsqueeze(0)\n",
    "    wav_fname = f\"en_{start_line + i}_{line}.wav\"\n",
    "    wav_filepath = f\"../datasets/en/{wav_fname}\"\n",
    "    torchaudio.save(wav_filepath, resampled_tensor, OUTPUT_SAMPLE_RATE)\n",
    "\n",
    "    # Log info to manifest\n",
    "    seconds_generated = len(semantic_tokens) / SEMANTIC_RATE_HZ\n",
    "    manifest_file.write(f\"{wav_fname}\\t{resampled_tensor.shape[1]}\" + \"\\n\")\n",
    "    manifest_file.flush()\n",
    "\n",
    "    # Cutoff when sufficient data\n",
    "    minutes_generated += seconds_generated / 60\n",
    "    print(f\"Minutes of audio: {minutes_generated}\")\n",
    "    if minutes_generated > minutes_to_generate:\n",
    "        break\n",
    "    \"\"\"\n",
    "    except:\n",
    "        pass\n",
    "    \"\"\""
   ]
  },
  {
   "attachments": {},
   "cell_type": "markdown",
   "metadata": {},
   "source": [
    "## ONE-OFF: Convert existing model to new\n",
    "\n",
    "DELETE THIS after finishing and verifying correctness!"
   ]
  },
  {
   "cell_type": "code",
   "execution_count": 12,
   "metadata": {},
   "outputs": [],
   "source": [
    "# Create labels\n",
    "import glob\n",
    "\n",
    "old_folder_path = '../datasets/en_old/'\n",
    "search_pattern = os.path.join(old_folder_path, \"*.wav\")\n",
    "\n",
    "label_file = open(f'{old_folder_path}/labels.txt', \"w\")\n",
    "manifest_file = open(f'{old_folder_path}/manifest.tsv', 'w')\n",
    "manifest_file.write(str(os.path.abspath(\"../datasets/en_old\")) + \"\\n\")\n",
    "\n",
    "OUTPUT_SAMPLE_RATE = 16_000\n",
    "resampler = torchaudio.transforms.Resample(orig_freq=SAMPLE_RATE, new_freq=OUTPUT_SAMPLE_RATE)\n",
    "\n",
    "for wav_filename in glob.glob(search_pattern):\n",
    "    # Load file\n",
    "    basename = os.path.basename(wav_filename)\n",
    "    wav, sr = torchaudio.load(wav_filename)\n",
    "\n",
    "    # Convert to 16khz and overwrite original\n",
    "    if sr != 16_000:\n",
    "        resampled_tensor = resampler(wav)\n",
    "        torchaudio.save(wav_filename, resampled_tensor, OUTPUT_SAMPLE_RATE)\n",
    "        manifest_file.write(f\"{basename}\\t{resampled_tensor.shape[1]}\\n\")\n",
    "    else:\n",
    "        manifest_file.write(f\"{basename}\\t{wav.shape[1]}\\n\")\n",
    "\n",
    "    \n",
    "    manifest_file.flush()\n",
    "    semantic_history = np.load(\n",
    "        os.path.join(old_folder_path, f\"{basename[2:-4]}.npz\")\n",
    "    )[\"tokens\"]\n",
    "    wav_length_seconds = len(semantic_history) / 49.9\n",
    "\n",
    "    # Add manifest entry\n",
    "\n",
    "    # Write tokens to label file\n",
    "    label_file.write(f'{\" \".join(list(map(str, semantic_history.tolist())))}\\n')\n",
    "    label_file.flush()\n",
    "\n",
    "    # Try only one for now\n"
   ]
  }
 ],
 "metadata": {
  "kernelspec": {
   "display_name": "venv",
   "language": "python",
   "name": "python3"
  },
  "language_info": {
   "codemirror_mode": {
    "name": "ipython",
    "version": 3
   },
   "file_extension": ".py",
   "mimetype": "text/x-python",
   "name": "python",
   "nbconvert_exporter": "python",
   "pygments_lexer": "ipython3",
   "version": "3.10.9"
  },
  "orig_nbformat": 4,
  "vscode": {
   "interpreter": {
    "hash": "790f29072abc26870ccb3736e8ffe1b6fbe9bdb3e500c5faf362e772e52ef00f"
   }
  }
 },
 "nbformat": 4,
 "nbformat_minor": 2
}
